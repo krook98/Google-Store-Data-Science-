{
 "nbformat": 4,
 "nbformat_minor": 0,
 "metadata": {
  "kernelspec": {
   "display_name": "Python 3",
   "language": "python",
   "name": "python3"
  },
  "language_info": {
   "codemirror_mode": {
    "name": "ipython",
    "version": 3
   },
   "file_extension": ".py",
   "mimetype": "text/x-python",
   "name": "python",
   "nbconvert_exporter": "python",
   "pygments_lexer": "ipython3",
   "version": "3.7.3"
  },
  "colab": {
   "name": "Google Play Store App Analytics (start).ipynb",
   "provenance": [],
   "toc_visible": true
  }
 },
 "cells": [
  {
   "cell_type": "markdown",
   "metadata": {
    "dc": {
     "key": "4"
    },
    "run_control": {
     "frozen": true
    },
    "tags": [
     "context"
    ],
    "id": "-Sxae4jbdiT2",
    "pycharm": {
     "name": "#%% md\n"
    }
   },
   "source": [
    "# Introduction\n",
    "\n",
    "In this notebook, we will do a comprehensive analysis of the Android app market by comparing thousands of apps in the Google Play store."
   ]
  },
  {
   "cell_type": "markdown",
   "metadata": {
    "id": "sDT5lMxadiT3",
    "pycharm": {
     "name": "#%% md\n"
    }
   },
   "source": [
    "# About the Dataset of Google Play Store Apps & Reviews"
   ]
  },
  {
   "cell_type": "markdown",
   "metadata": {
    "id": "5CiydsdNdiT3",
    "pycharm": {
     "name": "#%% md\n"
    }
   },
   "source": [
    "**Data Source:** <br>\n",
    "App and review data was scraped from the Google Play Store by Lavanya Gupta in 2018. Original files listed [here](\n",
    "https://www.kaggle.com/lava18/google-play-store-apps)."
   ]
  },
  {
   "cell_type": "markdown",
   "metadata": {
    "id": "BBKBNy4UdiT4",
    "pycharm": {
     "name": "#%% md\n"
    }
   },
   "source": [
    "# Import Statements"
   ]
  },
  {
   "cell_type": "code",
   "metadata": {
    "id": "_5mfFH4_diT4",
    "executionInfo": {
     "status": "ok",
     "timestamp": 1602234478794,
     "user_tz": -60,
     "elapsed": 594,
     "user": {
      "displayName": "Philipp Muellauer",
      "photoUrl": "https://lh3.googleusercontent.com/a-/AOh14GjjWitgsmZ0M9Wmzf-SRYD005WcMGhejWWHMUiZnFw=s64",
      "userId": "02749974243016517270"
     }
    },
    "pycharm": {
     "name": "#%%\n"
    }
   },
   "source": [
    "import pandas as pd\n"
   ],
   "execution_count": 1,
   "outputs": []
  },
  {
   "cell_type": "markdown",
   "metadata": {
    "id": "KegC9nPDdiT7",
    "pycharm": {
     "name": "#%% md\n"
    }
   },
   "source": [
    "# Notebook Presentation"
   ]
  },
  {
   "cell_type": "code",
   "metadata": {
    "id": "WPL7rhJndiT7",
    "pycharm": {
     "name": "#%%\n"
    }
   },
   "source": [
    "# Show numeric output in decimal format e.g., 2.15\n",
    "pd.options.display.float_format = '{:,.2f}'.format"
   ],
   "execution_count": 2,
   "outputs": []
  },
  {
   "cell_type": "markdown",
   "metadata": {
    "id": "Uc9LOZu9diT-",
    "pycharm": {
     "name": "#%% md\n"
    }
   },
   "source": [
    "# Read the Dataset"
   ]
  },
  {
   "cell_type": "code",
   "metadata": {
    "id": "zU0Zisv_diT-",
    "executionInfo": {
     "status": "error",
     "timestamp": 1602234486357,
     "user_tz": -60,
     "elapsed": 441,
     "user": {
      "displayName": "Philipp Muellauer",
      "photoUrl": "https://lh3.googleusercontent.com/a-/AOh14GjjWitgsmZ0M9Wmzf-SRYD005WcMGhejWWHMUiZnFw=s64",
      "userId": "02749974243016517270"
     }
    },
    "outputId": "f88a917e-30a1-45a4-b17a-ab21e557913c",
    "colab": {
     "base_uri": "https://localhost:8080/",
     "height": 375
    },
    "pycharm": {
     "name": "#%%\n"
    }
   },
   "source": [
    "df_apps = pd.read_csv('apps.csv')"
   ],
   "execution_count": 3,
   "outputs": []
  },
  {
   "cell_type": "markdown",
   "metadata": {
    "id": "iKvSUwQldiUA",
    "pycharm": {
     "name": "#%% md\n"
    }
   },
   "source": [
    "# Data Cleaning"
   ]
  },
  {
   "cell_type": "markdown",
   "metadata": {
    "id": "MWTzYZIds5L9",
    "pycharm": {
     "name": "#%% md\n"
    }
   },
   "source": [
    "**Challenge**: How many rows and columns does `df_apps` have? What are the column names? Look at a random sample of 5 different rows with [.sample()](https://pandas.pydata.org/pandas-docs/stable/reference/api/pandas.DataFrame.sample.html)."
   ]
  },
  {
   "cell_type": "code",
   "metadata": {
    "id": "HJI7UsPrnuRf",
    "pycharm": {
     "name": "#%%\n"
    }
   },
   "source": [
    "df_apps.sample()"
   ],
   "execution_count": 4,
   "outputs": [
    {
     "data": {
      "text/plain": "                               App   Category  Rating  Reviews  Size_MBs  \\\n3609  Baby Food - Homemade Recipes  PARENTING    4.10       44      3.60   \n\n     Installs  Type Price Content_Rating     Genres    Last_Updated  \\\n3609   10,000  Free     0       Everyone  Parenting  August 7, 2018   \n\n       Android_Ver  \n3609  4.0.3 and up  ",
      "text/html": "<div>\n<style scoped>\n    .dataframe tbody tr th:only-of-type {\n        vertical-align: middle;\n    }\n\n    .dataframe tbody tr th {\n        vertical-align: top;\n    }\n\n    .dataframe thead th {\n        text-align: right;\n    }\n</style>\n<table border=\"1\" class=\"dataframe\">\n  <thead>\n    <tr style=\"text-align: right;\">\n      <th></th>\n      <th>App</th>\n      <th>Category</th>\n      <th>Rating</th>\n      <th>Reviews</th>\n      <th>Size_MBs</th>\n      <th>Installs</th>\n      <th>Type</th>\n      <th>Price</th>\n      <th>Content_Rating</th>\n      <th>Genres</th>\n      <th>Last_Updated</th>\n      <th>Android_Ver</th>\n    </tr>\n  </thead>\n  <tbody>\n    <tr>\n      <th>3609</th>\n      <td>Baby Food - Homemade Recipes</td>\n      <td>PARENTING</td>\n      <td>4.10</td>\n      <td>44</td>\n      <td>3.60</td>\n      <td>10,000</td>\n      <td>Free</td>\n      <td>0</td>\n      <td>Everyone</td>\n      <td>Parenting</td>\n      <td>August 7, 2018</td>\n      <td>4.0.3 and up</td>\n    </tr>\n  </tbody>\n</table>\n</div>"
     },
     "execution_count": 4,
     "metadata": {},
     "output_type": "execute_result"
    }
   ]
  },
  {
   "cell_type": "code",
   "metadata": {
    "id": "fKXFjPkmnuYA",
    "pycharm": {
     "name": "#%%\n"
    }
   },
   "source": [
    "df_apps.shape"
   ],
   "execution_count": 5,
   "outputs": [
    {
     "data": {
      "text/plain": "(10841, 12)"
     },
     "execution_count": 5,
     "metadata": {},
     "output_type": "execute_result"
    }
   ]
  },
  {
   "cell_type": "code",
   "metadata": {
    "id": "MUluaHF5nueH",
    "pycharm": {
     "name": "#%%\n"
    }
   },
   "source": [
    "df_apps.sample(5)"
   ],
   "execution_count": 6,
   "outputs": [
    {
     "data": {
      "text/plain": "                                    App       Category  Rating  Reviews  \\\n9118  Fandango Movies - Times + Tickets  ENTERTAINMENT    4.60   243747   \n5787                 Classic FC 64 IN 1         FAMILY    4.20     1749   \n6677        Udacity - Lifelong Learning      EDUCATION    4.30    22384   \n3602           Burger King Foot Lettuce         FAMILY    4.40      150   \n8859                 FRONTLINE COMMANDO           GAME    4.40  1351833   \n\n      Size_MBs    Installs  Type Price Content_Rating         Genres  \\\n9118      9.35  10,000,000  Free     0           Teen  Entertainment   \n5787      6.20     100,000  Free     0       Everyone         Casual   \n6677     17.00   1,000,000  Free     0       Everyone      Education   \n3602      5.90      10,000  Free     0       Everyone  Entertainment   \n8859     12.00  10,000,000  Free     0           Teen         Action   \n\n           Last_Updated         Android_Ver  \n9118     August 2, 2018  Varies with device  \n5787  December 29, 2017          2.3 and up  \n6677      July 31, 2018          5.0 and up  \n3602      June 11, 2018          4.0 and up  \n8859   October 28, 2013          2.1 and up  ",
      "text/html": "<div>\n<style scoped>\n    .dataframe tbody tr th:only-of-type {\n        vertical-align: middle;\n    }\n\n    .dataframe tbody tr th {\n        vertical-align: top;\n    }\n\n    .dataframe thead th {\n        text-align: right;\n    }\n</style>\n<table border=\"1\" class=\"dataframe\">\n  <thead>\n    <tr style=\"text-align: right;\">\n      <th></th>\n      <th>App</th>\n      <th>Category</th>\n      <th>Rating</th>\n      <th>Reviews</th>\n      <th>Size_MBs</th>\n      <th>Installs</th>\n      <th>Type</th>\n      <th>Price</th>\n      <th>Content_Rating</th>\n      <th>Genres</th>\n      <th>Last_Updated</th>\n      <th>Android_Ver</th>\n    </tr>\n  </thead>\n  <tbody>\n    <tr>\n      <th>9118</th>\n      <td>Fandango Movies - Times + Tickets</td>\n      <td>ENTERTAINMENT</td>\n      <td>4.60</td>\n      <td>243747</td>\n      <td>9.35</td>\n      <td>10,000,000</td>\n      <td>Free</td>\n      <td>0</td>\n      <td>Teen</td>\n      <td>Entertainment</td>\n      <td>August 2, 2018</td>\n      <td>Varies with device</td>\n    </tr>\n    <tr>\n      <th>5787</th>\n      <td>Classic FC 64 IN 1</td>\n      <td>FAMILY</td>\n      <td>4.20</td>\n      <td>1749</td>\n      <td>6.20</td>\n      <td>100,000</td>\n      <td>Free</td>\n      <td>0</td>\n      <td>Everyone</td>\n      <td>Casual</td>\n      <td>December 29, 2017</td>\n      <td>2.3 and up</td>\n    </tr>\n    <tr>\n      <th>6677</th>\n      <td>Udacity - Lifelong Learning</td>\n      <td>EDUCATION</td>\n      <td>4.30</td>\n      <td>22384</td>\n      <td>17.00</td>\n      <td>1,000,000</td>\n      <td>Free</td>\n      <td>0</td>\n      <td>Everyone</td>\n      <td>Education</td>\n      <td>July 31, 2018</td>\n      <td>5.0 and up</td>\n    </tr>\n    <tr>\n      <th>3602</th>\n      <td>Burger King Foot Lettuce</td>\n      <td>FAMILY</td>\n      <td>4.40</td>\n      <td>150</td>\n      <td>5.90</td>\n      <td>10,000</td>\n      <td>Free</td>\n      <td>0</td>\n      <td>Everyone</td>\n      <td>Entertainment</td>\n      <td>June 11, 2018</td>\n      <td>4.0 and up</td>\n    </tr>\n    <tr>\n      <th>8859</th>\n      <td>FRONTLINE COMMANDO</td>\n      <td>GAME</td>\n      <td>4.40</td>\n      <td>1351833</td>\n      <td>12.00</td>\n      <td>10,000,000</td>\n      <td>Free</td>\n      <td>0</td>\n      <td>Teen</td>\n      <td>Action</td>\n      <td>October 28, 2013</td>\n      <td>2.1 and up</td>\n    </tr>\n  </tbody>\n</table>\n</div>"
     },
     "execution_count": 6,
     "metadata": {},
     "output_type": "execute_result"
    }
   ]
  },
  {
   "cell_type": "markdown",
   "metadata": {
    "id": "Hh81sMcvdiUI",
    "pycharm": {
     "name": "#%% md\n"
    }
   },
   "source": [
    "### Drop Unused Columns\n",
    "\n",
    "**Challenge**: Remove the columns called `Last_Updated` and `Android_Version` from the DataFrame. We will not use these columns. "
   ]
  },
  {
   "cell_type": "code",
   "metadata": {
    "id": "t7EMSKAOnyzI",
    "pycharm": {
     "name": "#%%\n"
    }
   },
   "source": [
    "df_apps.drop(['Last_Updated', 'Android_Ver'], axis=1, inplace=True)"
   ],
   "execution_count": 8,
   "outputs": []
  },
  {
   "cell_type": "markdown",
   "metadata": {
    "id": "YQGe1DIKdiUM",
    "pycharm": {
     "name": "#%% md\n"
    }
   },
   "source": [
    "### Find and Remove NaN values in Ratings\n",
    "\n",
    "**Challenge**: How may rows have a NaN value (not-a-number) in the Ratings column? Create DataFrame called `df_apps_clean` that does not include these rows. "
   ]
  },
  {
   "cell_type": "code",
   "metadata": {
    "id": "grcP1IOZn1Wv",
    "pycharm": {
     "name": "#%%\n"
    }
   },
   "source": [
    "nan_rows = df_apps[df_apps.Rating.isna()]\n",
    "nan_rows.head()"
   ],
   "execution_count": 12,
   "outputs": [
    {
     "data": {
      "text/plain": "                                            App         Category  Rating  \\\n0                       Ak Parti Yardım Toplama           SOCIAL     NaN   \n1                    Ain Arabic Kids Alif Ba ta           FAMILY     NaN   \n2  Popsicle Launcher for Android P 9.0 launcher  PERSONALIZATION     NaN   \n3                     Command & Conquer: Rivals           FAMILY     NaN   \n4                                    CX Network         BUSINESS     NaN   \n\n   Reviews  Size_MBs Installs  Type   Price Content_Rating           Genres  \n0        0      8.70        0  Paid  $13.99           Teen           Social  \n1        0     33.00        0  Paid   $2.99       Everyone        Education  \n2        0      5.50        0  Paid   $1.49       Everyone  Personalization  \n3        0     19.00        0   NaN       0   Everyone 10+         Strategy  \n4        0     10.00        0  Free       0       Everyone         Business  ",
      "text/html": "<div>\n<style scoped>\n    .dataframe tbody tr th:only-of-type {\n        vertical-align: middle;\n    }\n\n    .dataframe tbody tr th {\n        vertical-align: top;\n    }\n\n    .dataframe thead th {\n        text-align: right;\n    }\n</style>\n<table border=\"1\" class=\"dataframe\">\n  <thead>\n    <tr style=\"text-align: right;\">\n      <th></th>\n      <th>App</th>\n      <th>Category</th>\n      <th>Rating</th>\n      <th>Reviews</th>\n      <th>Size_MBs</th>\n      <th>Installs</th>\n      <th>Type</th>\n      <th>Price</th>\n      <th>Content_Rating</th>\n      <th>Genres</th>\n    </tr>\n  </thead>\n  <tbody>\n    <tr>\n      <th>0</th>\n      <td>Ak Parti Yardım Toplama</td>\n      <td>SOCIAL</td>\n      <td>NaN</td>\n      <td>0</td>\n      <td>8.70</td>\n      <td>0</td>\n      <td>Paid</td>\n      <td>$13.99</td>\n      <td>Teen</td>\n      <td>Social</td>\n    </tr>\n    <tr>\n      <th>1</th>\n      <td>Ain Arabic Kids Alif Ba ta</td>\n      <td>FAMILY</td>\n      <td>NaN</td>\n      <td>0</td>\n      <td>33.00</td>\n      <td>0</td>\n      <td>Paid</td>\n      <td>$2.99</td>\n      <td>Everyone</td>\n      <td>Education</td>\n    </tr>\n    <tr>\n      <th>2</th>\n      <td>Popsicle Launcher for Android P 9.0 launcher</td>\n      <td>PERSONALIZATION</td>\n      <td>NaN</td>\n      <td>0</td>\n      <td>5.50</td>\n      <td>0</td>\n      <td>Paid</td>\n      <td>$1.49</td>\n      <td>Everyone</td>\n      <td>Personalization</td>\n    </tr>\n    <tr>\n      <th>3</th>\n      <td>Command &amp; Conquer: Rivals</td>\n      <td>FAMILY</td>\n      <td>NaN</td>\n      <td>0</td>\n      <td>19.00</td>\n      <td>0</td>\n      <td>NaN</td>\n      <td>0</td>\n      <td>Everyone 10+</td>\n      <td>Strategy</td>\n    </tr>\n    <tr>\n      <th>4</th>\n      <td>CX Network</td>\n      <td>BUSINESS</td>\n      <td>NaN</td>\n      <td>0</td>\n      <td>10.00</td>\n      <td>0</td>\n      <td>Free</td>\n      <td>0</td>\n      <td>Everyone</td>\n      <td>Business</td>\n    </tr>\n  </tbody>\n</table>\n</div>"
     },
     "execution_count": 12,
     "metadata": {},
     "output_type": "execute_result"
    }
   ]
  },
  {
   "cell_type": "code",
   "metadata": {
    "id": "IbQnnPaUn1Pw",
    "pycharm": {
     "name": "#%%\n"
    }
   },
   "source": [
    "df_apps_clean = df_apps.dropna()\n",
    "df_apps_clean.shape"
   ],
   "execution_count": 14,
   "outputs": [
    {
     "data": {
      "text/plain": "(9367, 10)"
     },
     "execution_count": 14,
     "metadata": {},
     "output_type": "execute_result"
    }
   ]
  },
  {
   "cell_type": "markdown",
   "metadata": {
    "id": "pD26SWlxdiUV",
    "pycharm": {
     "name": "#%% md\n"
    }
   },
   "source": [
    "### Find and Remove Duplicates\n",
    "\n",
    "**Challenge**: Are there any duplicates in data? Check for duplicates using the [.duplicated()](https://pandas.pydata.org/pandas-docs/stable/reference/api/pandas.DataFrame.duplicated.html) function. How many entries can you find for the \"Instagram\" app? Use [.drop_duplicates()](https://pandas.pydata.org/pandas-docs/stable/reference/api/pandas.DataFrame.drop_duplicates.html) to remove any duplicates from `df_apps_clean`. \n"
   ]
  },
  {
   "cell_type": "code",
   "metadata": {
    "id": "lE7X6KG3n5pR",
    "pycharm": {
     "name": "#%%\n"
    }
   },
   "source": [
    "duplicated_rows = df_apps_clean[df_apps_clean.duplicated()]"
   ],
   "execution_count": 21,
   "outputs": []
  },
  {
   "cell_type": "code",
   "metadata": {
    "id": "GK2rP7wgn53-",
    "pycharm": {
     "name": "#%%\n"
    }
   },
   "source": [
    "duplicated_rows.shape"
   ],
   "execution_count": 22,
   "outputs": [
    {
     "data": {
      "text/plain": "(476, 10)"
     },
     "execution_count": 22,
     "metadata": {},
     "output_type": "execute_result"
    }
   ]
  },
  {
   "cell_type": "code",
   "metadata": {
    "id": "Wtt09kiRn6GS",
    "pycharm": {
     "name": "#%%\n"
    }
   },
   "source": [
    "df_apps_clean = df_apps_clean.drop_duplicates(subset=['App', 'Type', 'Price'])"
   ],
   "execution_count": 24,
   "outputs": []
  },
  {
   "cell_type": "code",
   "metadata": {
    "id": "30yZCwtKn5xC",
    "pycharm": {
     "name": "#%%\n"
    }
   },
   "source": [
    "df_apps_clean[df_apps_clean.App == 'Instagram']"
   ],
   "execution_count": 25,
   "outputs": [
    {
     "data": {
      "text/plain": "             App Category  Rating   Reviews  Size_MBs       Installs  Type  \\\n10806  Instagram   SOCIAL    4.50  66577313      5.30  1,000,000,000  Free   \n\n      Price Content_Rating  Genres  \n10806     0           Teen  Social  ",
      "text/html": "<div>\n<style scoped>\n    .dataframe tbody tr th:only-of-type {\n        vertical-align: middle;\n    }\n\n    .dataframe tbody tr th {\n        vertical-align: top;\n    }\n\n    .dataframe thead th {\n        text-align: right;\n    }\n</style>\n<table border=\"1\" class=\"dataframe\">\n  <thead>\n    <tr style=\"text-align: right;\">\n      <th></th>\n      <th>App</th>\n      <th>Category</th>\n      <th>Rating</th>\n      <th>Reviews</th>\n      <th>Size_MBs</th>\n      <th>Installs</th>\n      <th>Type</th>\n      <th>Price</th>\n      <th>Content_Rating</th>\n      <th>Genres</th>\n    </tr>\n  </thead>\n  <tbody>\n    <tr>\n      <th>10806</th>\n      <td>Instagram</td>\n      <td>SOCIAL</td>\n      <td>4.50</td>\n      <td>66577313</td>\n      <td>5.30</td>\n      <td>1,000,000,000</td>\n      <td>Free</td>\n      <td>0</td>\n      <td>Teen</td>\n      <td>Social</td>\n    </tr>\n  </tbody>\n</table>\n</div>"
     },
     "execution_count": 25,
     "metadata": {},
     "output_type": "execute_result"
    }
   ]
  },
  {
   "cell_type": "code",
   "metadata": {
    "id": "AagS_wgWn5ib",
    "pycharm": {
     "name": "#%%\n"
    }
   },
   "source": [
    "df_apps_clean.shape"
   ],
   "execution_count": 26,
   "outputs": [
    {
     "data": {
      "text/plain": "(8199, 10)"
     },
     "execution_count": 26,
     "metadata": {},
     "output_type": "execute_result"
    }
   ]
  },
  {
   "cell_type": "markdown",
   "metadata": {
    "id": "GJrM69CfdiUh",
    "pycharm": {
     "name": "#%% md\n"
    }
   },
   "source": [
    "# Find Highest Rated Apps\n",
    "\n",
    "**Challenge**: Identify which apps are the highest rated. What problem might you encounter if you rely exclusively on ratings alone to determine the quality of an app?"
   ]
  },
  {
   "cell_type": "code",
   "metadata": {
    "id": "rp7vFHBMn7st",
    "pycharm": {
     "name": "#%%\n"
    }
   },
   "source": [],
   "execution_count": null,
   "outputs": []
  },
  {
   "cell_type": "markdown",
   "metadata": {
    "id": "28o1Tro4diUi",
    "pycharm": {
     "name": "#%% md\n"
    }
   },
   "source": [
    "# Find 5 Largest Apps in terms of Size (MBs)\n",
    "\n",
    "**Challenge**: What's the size in megabytes (MB) of the largest Android apps in the Google Play Store. Based on the data, do you think there could be limit in place or can developers make apps as large as they please? "
   ]
  },
  {
   "cell_type": "code",
   "metadata": {
    "id": "n5r0pJCOn9Vu",
    "pycharm": {
     "name": "#%%\n"
    }
   },
   "source": [],
   "execution_count": null,
   "outputs": []
  },
  {
   "cell_type": "markdown",
   "metadata": {
    "id": "C3gTckh7diUk",
    "pycharm": {
     "name": "#%% md\n"
    }
   },
   "source": [
    "# Find the 5 App with Most Reviews\n",
    "\n",
    "**Challenge**: Which apps have the highest number of reviews? Are there any paid apps among the top 50?"
   ]
  },
  {
   "cell_type": "code",
   "metadata": {
    "id": "TLt98G0Sn_De",
    "pycharm": {
     "name": "#%%\n"
    }
   },
   "source": [],
   "execution_count": null,
   "outputs": []
  },
  {
   "cell_type": "markdown",
   "metadata": {
    "id": "BFoRqpezjebe",
    "pycharm": {
     "name": "#%% md\n"
    }
   },
   "source": [
    "# Plotly Pie and Donut Charts - Visualise Categorical Data: Content Ratings"
   ]
  },
  {
   "cell_type": "code",
   "metadata": {
    "id": "c0IIxNGnoFKM",
    "pycharm": {
     "name": "#%%\n"
    }
   },
   "source": [],
   "execution_count": null,
   "outputs": []
  },
  {
   "cell_type": "code",
   "metadata": {
    "id": "TSiV6ZkjoFVg",
    "pycharm": {
     "name": "#%%\n"
    }
   },
   "source": [],
   "execution_count": null,
   "outputs": []
  },
  {
   "cell_type": "code",
   "metadata": {
    "id": "7kil2mdfoFOr",
    "pycharm": {
     "name": "#%%\n"
    }
   },
   "source": [],
   "execution_count": null,
   "outputs": []
  },
  {
   "cell_type": "code",
   "metadata": {
    "id": "6ZaHYNy2oFEE",
    "pycharm": {
     "name": "#%%\n"
    }
   },
   "source": [],
   "execution_count": null,
   "outputs": []
  },
  {
   "cell_type": "markdown",
   "metadata": {
    "id": "RoPpW37xdiUm",
    "pycharm": {
     "name": "#%% md\n"
    }
   },
   "source": [
    "# Numeric Type Conversion: Examine the Number of Installs\n",
    "\n",
    "**Challenge**: How many apps had over 1 billion (that's right - BILLION) installations? How many apps just had a single install? \n",
    "\n",
    "Check the datatype of the Installs column.\n",
    "\n",
    "Count the number of apps at each level of installations. \n",
    "\n",
    "Convert the number of installations (the Installs column) to a numeric data type. Hint: this is a 2-step process. You'll have make sure you remove non-numeric characters first. "
   ]
  },
  {
   "cell_type": "code",
   "metadata": {
    "id": "uTNyWsPboJLq",
    "pycharm": {
     "name": "#%%\n"
    }
   },
   "source": [],
   "execution_count": null,
   "outputs": []
  },
  {
   "cell_type": "code",
   "metadata": {
    "id": "yzR49fYcoJRI",
    "pycharm": {
     "name": "#%%\n"
    }
   },
   "source": [],
   "execution_count": null,
   "outputs": []
  },
  {
   "cell_type": "code",
   "metadata": {
    "id": "cFjptR-JoJOE",
    "pycharm": {
     "name": "#%%\n"
    }
   },
   "source": [],
   "execution_count": null,
   "outputs": []
  },
  {
   "cell_type": "code",
   "metadata": {
    "id": "8AMmxKHgoJGT",
    "pycharm": {
     "name": "#%%\n"
    }
   },
   "source": [],
   "execution_count": null,
   "outputs": []
  },
  {
   "cell_type": "markdown",
   "metadata": {
    "id": "7T4sfNpFdiUv",
    "pycharm": {
     "name": "#%% md\n"
    }
   },
   "source": [
    "# Find the Most Expensive Apps, Filter out the Junk, and Calculate a (ballpark) Sales Revenue Estimate\n",
    "\n",
    "Let's examine the Price column more closely.\n",
    "\n",
    "**Challenge**: Convert the price column to numeric data. Then investigate the top 20 most expensive apps in the dataset.\n",
    "\n",
    "Remove all apps that cost more than $250 from the `df_apps_clean` DataFrame.\n",
    "\n",
    "Add a column called 'Revenue_Estimate' to the DataFrame. This column should hold the price of the app times the number of installs. What are the top 10 highest grossing paid apps according to this estimate? Out of the top 10 highest grossing paid apps, how many are games?\n"
   ]
  },
  {
   "cell_type": "code",
   "metadata": {
    "id": "CqhX2WCJoQEp",
    "pycharm": {
     "name": "#%%\n"
    }
   },
   "source": [],
   "execution_count": null,
   "outputs": []
  },
  {
   "cell_type": "markdown",
   "metadata": {
    "id": "Rgposh-CdiU4",
    "pycharm": {
     "name": "#%% md\n"
    }
   },
   "source": [
    "### The most expensive apps sub $250"
   ]
  },
  {
   "cell_type": "code",
   "metadata": {
    "id": "c8_n8z8XoUML",
    "pycharm": {
     "name": "#%%\n"
    }
   },
   "source": [],
   "execution_count": null,
   "outputs": []
  },
  {
   "cell_type": "markdown",
   "metadata": {
    "id": "VGu85CLb4OOH",
    "pycharm": {
     "name": "#%% md\n"
    }
   },
   "source": [
    "### Highest Grossing Paid Apps (ballpark estimate)"
   ]
  },
  {
   "cell_type": "code",
   "metadata": {
    "id": "3mDi45iIoVzE",
    "pycharm": {
     "name": "#%%\n"
    }
   },
   "source": [],
   "execution_count": null,
   "outputs": []
  },
  {
   "cell_type": "markdown",
   "metadata": {
    "dc": {
     "key": "18"
    },
    "run_control": {
     "frozen": true
    },
    "tags": [
     "context"
    ],
    "id": "lvpM2MyTdiU6",
    "pycharm": {
     "name": "#%% md\n"
    }
   },
   "source": [
    "# Plotly Bar Charts & Scatter Plots: Analysing App Categories"
   ]
  },
  {
   "cell_type": "code",
   "metadata": {
    "id": "3L6hK0aLoYxY",
    "pycharm": {
     "name": "#%%\n"
    }
   },
   "source": [],
   "execution_count": null,
   "outputs": []
  },
  {
   "cell_type": "code",
   "metadata": {
    "id": "mg50Ts9joYz1",
    "pycharm": {
     "name": "#%%\n"
    }
   },
   "source": [],
   "execution_count": null,
   "outputs": []
  },
  {
   "cell_type": "code",
   "metadata": {
    "id": "WZZizlGjoYfn",
    "pycharm": {
     "name": "#%%\n"
    }
   },
   "source": [],
   "execution_count": null,
   "outputs": []
  },
  {
   "cell_type": "markdown",
   "metadata": {
    "id": "0tTurR7qdiU9",
    "pycharm": {
     "name": "#%% md\n"
    }
   },
   "source": [
    "### Vertical Bar Chart - Highest Competition (Number of Apps)"
   ]
  },
  {
   "cell_type": "code",
   "metadata": {
    "id": "SFSMH00AoaMB",
    "pycharm": {
     "name": "#%%\n"
    }
   },
   "source": [],
   "execution_count": null,
   "outputs": []
  },
  {
   "cell_type": "markdown",
   "metadata": {
    "id": "57mowetLdiU_",
    "pycharm": {
     "name": "#%% md\n"
    }
   },
   "source": [
    "### Horizontal Bar Chart - Most Popular Categories (Highest Downloads)"
   ]
  },
  {
   "cell_type": "code",
   "metadata": {
    "id": "zHO7eTJmocLm",
    "pycharm": {
     "name": "#%%\n"
    }
   },
   "source": [],
   "execution_count": null,
   "outputs": []
  },
  {
   "cell_type": "code",
   "metadata": {
    "id": "h7aUARLtocCy",
    "pycharm": {
     "name": "#%%\n"
    }
   },
   "source": [],
   "execution_count": null,
   "outputs": []
  },
  {
   "cell_type": "markdown",
   "metadata": {
    "id": "Uxk24qMk8vrz",
    "pycharm": {
     "name": "#%% md\n"
    }
   },
   "source": [
    "### Category Concentration - Downloads vs. Competition\n",
    "\n",
    "**Challenge**: \n",
    "* First, create a DataFrame that has the number of apps in one column and the number of installs in another:\n",
    "\n",
    "<img src=https://imgur.com/uQRSlXi.png width=\"350\">\n",
    "\n",
    "* Then use the [plotly express examples from the documentation](https://plotly.com/python/line-and-scatter/) alongside the [.scatter() API reference](https://plotly.com/python-api-reference/generated/plotly.express.scatter.html)to create scatter plot that looks like this. \n",
    "\n",
    "<img src=https://imgur.com/cHsqh6a.png>\n",
    "\n",
    "*Hint*: Use the size, hover_name and color parameters in .scatter(). To scale the yaxis, call .update_layout() and specify that the yaxis should be on a log-scale like so: yaxis=dict(type='log') "
   ]
  },
  {
   "cell_type": "code",
   "metadata": {
    "id": "tVvGPDY7oe5A",
    "pycharm": {
     "name": "#%%\n"
    }
   },
   "source": [],
   "execution_count": null,
   "outputs": []
  },
  {
   "cell_type": "markdown",
   "metadata": {
    "id": "dmXDF75WdiVC",
    "pycharm": {
     "name": "#%% md\n"
    }
   },
   "source": [
    "# Extracting Nested Data from a Column\n",
    "\n",
    "**Challenge**: How many different types of genres are there? Can an app belong to more than one genre? Check what happens when you use .value_counts() on a column with nested values? See if you can work around this problem by using the .split() function and the DataFrame's [.stack() method](https://pandas.pydata.org/pandas-docs/stable/reference/api/pandas.DataFrame.stack.html). \n"
   ]
  },
  {
   "cell_type": "code",
   "metadata": {
    "id": "3Lo69kS6ogdm",
    "pycharm": {
     "name": "#%%\n"
    }
   },
   "source": [],
   "execution_count": null,
   "outputs": []
  },
  {
   "cell_type": "markdown",
   "metadata": {
    "id": "F3zaKvfydiVI",
    "pycharm": {
     "name": "#%% md\n"
    }
   },
   "source": [
    "# Colour Scales in Plotly Charts - Competition in Genres"
   ]
  },
  {
   "cell_type": "markdown",
   "metadata": {
    "id": "Ucw6RT59diVK",
    "pycharm": {
     "name": "#%% md\n"
    }
   },
   "source": [
    "**Challenge**: Can you create this chart with the Series containing the genre data? \n",
    "\n",
    "<img src=https://imgur.com/DbcoQli.png width=400>\n",
    "\n",
    "Try experimenting with the built in colour scales in Plotly. You can find a full list [here](https://plotly.com/python/builtin-colorscales/). \n",
    "\n",
    "* Find a way to set the colour scale using the color_continuous_scale parameter. \n",
    "* Find a way to make the color axis disappear by using coloraxis_showscale. "
   ]
  },
  {
   "cell_type": "code",
   "metadata": {
    "id": "c5xbfMgxojoA",
    "pycharm": {
     "name": "#%%\n"
    }
   },
   "source": [],
   "execution_count": null,
   "outputs": []
  },
  {
   "cell_type": "markdown",
   "metadata": {
    "id": "BIWG_10PyIzL",
    "pycharm": {
     "name": "#%% md\n"
    }
   },
   "source": [
    "# Grouped Bar Charts: Free vs. Paid Apps per Category"
   ]
  },
  {
   "cell_type": "code",
   "metadata": {
    "id": "ANMs7xywolDH",
    "pycharm": {
     "name": "#%%\n"
    }
   },
   "source": [],
   "execution_count": null,
   "outputs": []
  },
  {
   "cell_type": "markdown",
   "metadata": {
    "id": "wmRXm0TW1e_Z",
    "pycharm": {
     "name": "#%% md\n"
    }
   },
   "source": [
    "**Challenge**: Use the plotly express bar [chart examples](https://plotly.com/python/bar-charts/#bar-chart-with-sorted-or-ordered-categories) and the [.bar() API reference](https://plotly.com/python-api-reference/generated/plotly.express.bar.html#plotly.express.bar) to create this bar chart: \n",
    "\n",
    "<img src=https://imgur.com/LE0XCxA.png>\n",
    "\n",
    "You'll want to use the `df_free_vs_paid` DataFrame that you created above that has the total number of free and paid apps per category. \n",
    "\n",
    "See if you can figure out how to get the look above by changing the `categoryorder` to 'total descending' as outlined in the documentation here [here](https://plotly.com/python/categorical-axes/#automatically-sorting-categories-by-name-or-total-value). "
   ]
  },
  {
   "cell_type": "code",
   "metadata": {
    "id": "tqOntrS7onGt",
    "pycharm": {
     "name": "#%%\n"
    }
   },
   "source": [],
   "execution_count": null,
   "outputs": []
  },
  {
   "cell_type": "markdown",
   "metadata": {
    "id": "nbYh2tU-VZ-i",
    "pycharm": {
     "name": "#%% md\n"
    }
   },
   "source": [
    "# Plotly Box Plots: Lost Downloads for Paid Apps\n",
    "\n",
    "**Challenge**: Create a box plot that shows the number of Installs for free versus paid apps. How does the median number of installations compare? Is the difference large or small?\n",
    "\n",
    "Use the [Box Plots Guide](https://plotly.com/python/box-plots/) and the [.box API reference](https://plotly.com/python-api-reference/generated/plotly.express.box.html) to create the following chart. \n",
    "\n",
    "<img src=https://imgur.com/uVsECT3.png>\n"
   ]
  },
  {
   "cell_type": "code",
   "metadata": {
    "id": "Jip3hMZ7oqLS",
    "pycharm": {
     "name": "#%%\n"
    }
   },
   "source": [],
   "execution_count": null,
   "outputs": []
  },
  {
   "cell_type": "markdown",
   "metadata": {
    "id": "Xi2NaEBPVNrP",
    "pycharm": {
     "name": "#%% md\n"
    }
   },
   "source": [
    "# Plotly Box Plots: Revenue by App Category\n",
    "\n",
    "**Challenge**: See if you can generate the chart below: \n",
    "\n",
    "<img src=https://imgur.com/v4CiNqX.png>\n",
    "\n",
    "Looking at the hover text, how much does the median app earn in the Tools category? If developing an Android app costs $30,000 or thereabouts, does the average photography app recoup its development costs?\n",
    "\n",
    "Hint: I've used 'min ascending' to sort the categories. "
   ]
  },
  {
   "cell_type": "code",
   "metadata": {
    "id": "W1iVoT8Dos7x",
    "pycharm": {
     "name": "#%%\n"
    }
   },
   "source": [],
   "execution_count": null,
   "outputs": []
  },
  {
   "cell_type": "markdown",
   "metadata": {
    "id": "uT32ylj4WS9B",
    "pycharm": {
     "name": "#%% md\n"
    }
   },
   "source": [
    "# How Much Can You Charge? Examine Paid App Pricing Strategies by Category\n",
    "\n",
    "**Challenge**: What is the median price price for a paid app? Then compare pricing by category by creating another box plot. But this time examine the prices (instead of the revenue estimates) of the paid apps. I recommend using `{categoryorder':'max descending'}` to sort the categories."
   ]
  },
  {
   "cell_type": "code",
   "metadata": {
    "id": "AdBr0TUhouqs",
    "pycharm": {
     "name": "#%%\n"
    }
   },
   "source": [],
   "execution_count": null,
   "outputs": []
  },
  {
   "cell_type": "code",
   "metadata": {
    "id": "bJnABRw3ovwr",
    "pycharm": {
     "name": "#%%\n"
    }
   },
   "source": [],
   "execution_count": null,
   "outputs": []
  },
  {
   "cell_type": "code",
   "metadata": {
    "id": "zSXVSlVyQ4Kz",
    "pycharm": {
     "name": "#%%\n"
    }
   },
   "source": [],
   "execution_count": null,
   "outputs": []
  }
 ]
}